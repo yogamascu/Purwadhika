{
 "cells": [
  {
   "cell_type": "code",
   "execution_count": null,
   "metadata": {},
   "outputs": [],
   "source": [
    "# 01\n",
    "\n",
    "spam = ababaababbbbcccbabcc\n",
    "word = bab\n",
    "if spam (word)"
   ]
  }
 ],
 "metadata": {
  "language_info": {
   "name": "python"
  }
 },
 "nbformat": 4,
 "nbformat_minor": 2
}
