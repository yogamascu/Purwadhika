{
 "cells": [
  {
   "cell_type": "code",
   "execution_count": null,
   "metadata": {},
   "outputs": [],
   "source": [
    "#01\n",
    "\n",
    "# input: \n",
    "spam = 'ababaababbbbcccbabcc'\n",
    "word = 'bab'\n",
    "\n",
    "# output:\n",
    "'Appeard 3 times'"
   ]
  },
  {
   "cell_type": "code",
   "execution_count": null,
   "metadata": {},
   "outputs": [],
   "source": [
    "#02\n",
    "\n",
    "# input:\n",
    "spam = 'oOxxX'\n",
    "\n",
    "# output:\n",
    "False"
   ]
  },
  {
   "cell_type": "code",
   "execution_count": null,
   "metadata": {},
   "outputs": [],
   "source": [
    "#03\n",
    "\n",
    "# input:\n",
    "spam = 153\n",
    "\n",
    "# output:\n",
    "'153 is narcissistic number'"
   ]
  },
  {
   "cell_type": "code",
   "execution_count": null,
   "metadata": {},
   "outputs": [],
   "source": [
    "#04\n",
    "\n",
    "# input\n",
    "Enter a number (greater than 0) or QUIT: 35\n",
    "\n",
    "# output\n",
    "1 2 Fizz 4 Buzz Fizz 7 8 Fizz Buzz 11 Fizz 13 14 FizzBuzz 16 17 Fizz 19 Buzz Fizz 22\n",
    "23 Fizz Buzz 26 Fizz 28 29 FizzBuzz 31 32 Fizz 34 Buzz"
   ]
  },
  {
   "cell_type": "code",
   "execution_count": null,
   "metadata": {},
   "outputs": [],
   "source": [
    "#05\n",
    "\n",
    "# input\n",
    "text = 'The Fox and fox.'\n",
    "oldText = 'fox' \n",
    "newText = 'dog'\n",
    "\n",
    "# output\n",
    "'The Fox and dog.'"
   ]
  },
  {
   "cell_type": "code",
   "execution_count": null,
   "metadata": {},
   "outputs": [],
   "source": [
    "#06\n",
    "\n",
    "# input\n",
    "Enter a starting number (greater than 0) or QUIT: 26\n",
    "\n",
    "# output\n",
    "26, 13, 40, 20, 10, 5, 16, 8, 4, 2, 1"
   ]
  },
  {
   "cell_type": "code",
   "execution_count": null,
   "metadata": {},
   "outputs": [],
   "source": [
    "#07\n",
    "\n",
    "# input\n",
    "Enter the Nth Fibonacci number you wish to calculate or QUIT to quit: 10\n",
    "\n",
    "# output\n",
    "0, 1, 1, 2, 3, 5, 8, 13, 21, 34"
   ]
  },
  {
   "cell_type": "code",
   "execution_count": null,
   "metadata": {},
   "outputs": [],
   "source": [
    "#08\n",
    "\n",
    "# input\n",
    "Enter the message to hack: QIIX QI FC XLI VSWI FYWLIW XSRMKLX.\n",
    "\n",
    "# output\n",
    "Key #0: QIIX QI FC XLI VSWI FYWLIW XSRMKLX.\n",
    "Key #1: PHHW PH EB WKH URVH EXVKHV WRQLJKW. \n",
    "Key #2: OGGV OG DA VJG TQUG DWUJGU VQPKIJV. \n",
    "Key #3: NFFU NF CZ UIF SPTF CVTIFT UPOJHIU. \n",
    "Key #4: MEET ME BY THE ROSE BUSHES TONIGHT. \n",
    "Key #5: LDDS LD AX SGD QNRD ATRGDR SNMHFGS. \n",
    "Key #6: KCCR KC ZW RFC PMQC ZSQFCQ RMLGEFR. "
   ]
  }
 ],
 "metadata": {
  "language_info": {
   "name": "python"
  }
 },
 "nbformat": 4,
 "nbformat_minor": 2
}
