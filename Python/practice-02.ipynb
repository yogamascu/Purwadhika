{
 "cells": [
  {
   "cell_type": "code",
   "execution_count": 18,
   "metadata": {},
   "outputs": [
    {
     "name": "stdout",
     "output_type": "stream",
     "text": [
      "bab Apperaed 3 times\n"
     ]
    }
   ],
   "source": [
    "#01\n",
    "\n",
    "# input: \n",
    "spam = 'ababaababbbbcccbabcc'\n",
    "word = 'bab'\n",
    "\n",
    "count = 0\n",
    "for i in range (len(spam)):\n",
    "    if spam [i:i+3] == word:\n",
    "        count += 1\n",
    "\n",
    "print (word,'Apperaed',count, 'times')\n",
    "\n",
    "# output: 'Appeard 3 times'\n"
   ]
  },
  {
   "cell_type": "code",
   "execution_count": 27,
   "metadata": {},
   "outputs": [
    {
     "data": {
      "text/plain": [
       "False"
      ]
     },
     "execution_count": 27,
     "metadata": {},
     "output_type": "execute_result"
    }
   ],
   "source": [
    "#02\n",
    "\n",
    "# input:\n",
    "spam = 'oOxxX'\n",
    "hi  = 'o'\n",
    "hx = 'x'\n",
    "\n",
    "enol = 0\n",
    "for i in (spam):\n",
    "    if i == hi:\n",
    "        enol += 1\n",
    "\n",
    "exex = 0\n",
    "for i in (spam):\n",
    "    if i == hx:\n",
    "        exex += 1\n",
    "\n",
    "enol == exex\n",
    "\n",
    "        \n",
    "\n",
    "# output: False"
   ]
  },
  {
   "cell_type": "code",
   "execution_count": 33,
   "metadata": {},
   "outputs": [
    {
     "name": "stdout",
     "output_type": "stream",
     "text": [
      "153\n"
     ]
    }
   ],
   "source": [
    "#03\n",
    "\n",
    "spam = 153\n",
    "\n",
    "val = 0\n",
    "for x in str(spam):\n",
    "    val += int(x)**len(str(spam))\n",
    "\n",
    "if val == spam:\n",
    "    print(f'{spam} is narcissistic number')\n",
    "else:\n",
    "    print(f'not narcissistic number')"
   ]
  },
  {
   "cell_type": "code",
   "execution_count": null,
   "metadata": {},
   "outputs": [],
   "source": [
    "#04\n",
    "\n",
    "nums = input('Enter a number (greater than 0): ')\n",
    "\n",
    "for num in range(1, int(nums)+1):\n",
    "    if num%3 == 0 and num%5 == 0:\n",
    "        print('FizzBuzz', end=' ')\n",
    "    elif num%3 == 0:\n",
    "        print('Fizz', end=' ')\n",
    "    elif num%5 == 0: \n",
    "        print('Buzz', end=' ')\n",
    "    else:\n",
    "        print(num, end=' ')"
   ]
  },
  {
   "cell_type": "code",
   "execution_count": 36,
   "metadata": {},
   "outputs": [],
   "source": [
    "#05\n",
    "\n",
    "text = 'The Fox and fox.'\n",
    "old = 'fox' \n",
    "new = 'dog'\n",
    "\n",
    "i = 0\n",
    "replace = ''\n",
    "while i < len(text):\n",
    "    if text[i: i+len(old)] == old:\n",
    "        replace += new\n",
    "        i += len(old)\n",
    "    else:\n",
    "        replace += text[i]\n",
    "        i += 1\n",
    "\n",
    "print(f'Expected result: {replace}')\n"
   ]
  },
  {
   "cell_type": "code",
   "execution_count": null,
   "metadata": {},
   "outputs": [],
   "source": [
    "# 06\n",
    "\n",
    "num = input('Enter a number (greater than 0): ')\n",
    "out = ''\n",
    "\n",
    "num = int(num)\n",
    "out = f'{num} '\n",
    "\n",
    "while num != 1 and num > 0:\n",
    "    if int(num) % 2 == 1:\n",
    "        num = 3 * num + 1\n",
    "    else:\n",
    "        num = num // 2\n",
    "    out += f'{num} '\n",
    "    \n",
    "print(out)"
   ]
  },
  {
   "cell_type": "code",
   "execution_count": null,
   "metadata": {},
   "outputs": [],
   "source": [
    "# 07\n",
    "\n",
    "num = input('Enter the Nth Fibonacci number you wish to calculate: ')\n",
    "\n",
    "if num.isdecimal() and int(num) != 0:\n",
    "    num = int(num)\n",
    "    if num == 1:\n",
    "        print('0')\n",
    "    elif num == 2:\n",
    "        print('0, 1')\n",
    "    else:\n",
    "        toLastNumber = 0\n",
    "        lastNumber = 1\n",
    "        nFibonaci = 2\n",
    "        print('0, 1, ', end='')\n",
    "\n",
    "        while True:\n",
    "            nextNumber = toLastNumber + lastNumber\n",
    "            nFibonaci += 1\n",
    "            print(nextNumber, end='')\n",
    "\n",
    "            if nFibonaci == num:\n",
    "                break\n",
    "\n",
    "            print(', ', end='')\n",
    "\n",
    "            toLastNumber = lastNumber\n",
    "            lastNumber = nextNumber"
   ]
  },
  {
   "cell_type": "code",
   "execution_count": null,
   "metadata": {},
   "outputs": [],
   "source": [
    "#08\n",
    "\n",
    "response = input('Enter the message to hack : ').upper()\n",
    "\n",
    "SYMBOLS = 'ABCDEFGHIJKLMNOPQRSTUVWXYZ'\n",
    "for key in range(len(SYMBOLS)):\n",
    "    out = ''\n",
    "    for char in response:\n",
    "        if char in SYMBOLS:\n",
    "            idx = SYMBOLS.find(char)\n",
    "            idx -= key\n",
    "\n",
    "            if idx < 0:\n",
    "                idx += len(SYMBOLS)\n",
    "            \n",
    "            out += SYMBOLS[idx]\n",
    "        else:\n",
    "            out += char\n",
    "\n",
    "    print(f'Key #{key}: {out}')"
   ]
  }
 ],
 "metadata": {
  "kernelspec": {
   "display_name": "base",
   "language": "python",
   "name": "python3"
  },
  "language_info": {
   "codemirror_mode": {
    "name": "ipython",
    "version": 3
   },
   "file_extension": ".py",
   "mimetype": "text/x-python",
   "name": "python",
   "nbconvert_exporter": "python",
   "pygments_lexer": "ipython3",
   "version": "3.1.0"
  }
 },
 "nbformat": 4,
 "nbformat_minor": 2
}
