{
 "cells": [
  {
   "cell_type": "code",
   "execution_count": 1,
   "metadata": {},
   "outputs": [
    {
     "name": "stdout",
     "output_type": "stream",
     "text": [
      "Total Character of your first name: 4\n"
     ]
    }
   ],
   "source": [
    "#Test 1\n",
    "name = input (\" Enter your name: \")\n",
    "name = name.split()\n",
    "firstname = name[0]\n",
    "jumlahkarakter = len(firstname)\n",
    "print('Total Character of your first name:', jumlahkarakter)\n"
   ]
  },
  {
   "cell_type": "code",
   "execution_count": 28,
   "metadata": {},
   "outputs": [
    {
     "name": "stdout",
     "output_type": "stream",
     "text": [
      "Your code is: HFNANBLSMOO\n"
     ]
    }
   ],
   "source": [
    "#Test 2\n",
    "name = input (\" Enter your name: \")\n",
    "split = name [1::2]\n",
    "junk = split.upper()\n",
    "print(\"Your code is:\", junk)"
   ]
  },
  {
   "cell_type": "code",
   "execution_count": 16,
   "metadata": {},
   "outputs": [
    {
     "name": "stdout",
     "output_type": "stream",
     "text": [
      "22\n",
      "7654\n"
     ]
    }
   ],
   "source": [
    "#Test 3\n",
    "oke = input (\"Enter thr four digit number:\")\n",
    "angka1 = oke[0]\n",
    "angka2 = oke[1]\n",
    "angka3 = (oke[2])\n",
    "angka4 = (oke[3])\n",
    "zum = int(angka1)+int(angka2)+int(angka3)+int(angka4)\n",
    "reverse = angka4 + angka3 + angka2 + angka1\n",
    "print (zum)\n",
    "print (reverse)"
   ]
  },
  {
   "cell_type": "code",
   "execution_count": 68,
   "metadata": {},
   "outputs": [
    {
     "name": "stdout",
     "output_type": "stream",
     "text": [
      "The slope is 2.0\n",
      "The distance is 2.236\n"
     ]
    }
   ],
   "source": [
    "#Test 4\n",
    "import math\n",
    "\n",
    "CA = input(\"Enter coordinate point A: \")\n",
    "CB = input(\"Enter coordinate point B: \")\n",
    "\n",
    "\n",
    "x1 = int(CA[0])\n",
    "y1 = int(CA[1])\n",
    "\n",
    "x2 = int(CB[0])\n",
    "y2 = int(CB[1])\n",
    "\n",
    "\n",
    "\n",
    "slope = (y2 - y1)/(x2 - x1)\n",
    "distance = math.sqrt(((x1 - x2)**2 + ((y1 - y2)**2)))\n",
    "print('The slope is',\"%.1f\" % slope)\n",
    "print('The distance is',\"%.3f\" % distance)"
   ]
  },
  {
   "cell_type": "markdown",
   "metadata": {},
   "source": [
    "x1"
   ]
  },
  {
   "cell_type": "code",
   "execution_count": 69,
   "metadata": {},
   "outputs": [
    {
     "name": "stdout",
     "output_type": "stream",
     "text": [
      "Output: dhiwha purka\n"
     ]
    }
   ],
   "source": [
    "#Test 5\n",
    "\n",
    "\n",
    "text1, text2 = input('Enter thr sample string of your choice: ').split(',')\n",
    "text1, text2 = text1.strip(), text2.strip()\n",
    "\n",
    "rearrange = f'{text2[:3]}{text1[3:]} {text1[:3]}{text2[3:]}'\n",
    "print(f'Output: {rearrange}')"
   ]
  },
  {
   "cell_type": "code",
   "execution_count": null,
   "metadata": {},
   "outputs": [],
   "source": [
    "#Test 6\n",
    "\n",
    "t1 = input('Enter the first text ')\n",
    "t2 = input('Enter the first text ')\n",
    "\n",
    "mid = len(t1)//2\n",
    "result = f'{t1[0]}{t2[0]}{t1[mid]}{t2[mid]}{t1[-1]}{t2[-1]}'\n",
    "print(f'Output: {result}')"
   ]
  },
  {
   "cell_type": "code",
   "execution_count": null,
   "metadata": {},
   "outputs": [],
   "source": [
    "#Test 7\n",
    "\n",
    "txt1 = input('Enter the first text: ')\n",
    "txt2 = input('Then your second text: ')\n",
    "\n",
    "mid = len(txt1)//2\n",
    "theoutput = f'{txt1[:mid]}{txt2}{txt1[mid:]}'\n",
    "print(f'Expected result: {theoutput}')"
   ]
  }
 ],
 "metadata": {
  "kernelspec": {
   "display_name": "base",
   "language": "python",
   "name": "python3"
  },
  "language_info": {
   "codemirror_mode": {
    "name": "ipython",
    "version": 3
   },
   "file_extension": ".py",
   "mimetype": "text/x-python",
   "name": "python",
   "nbconvert_exporter": "python",
   "pygments_lexer": "ipython3",
   "version": "3.11.5"
  }
 },
 "nbformat": 4,
 "nbformat_minor": 2
}
