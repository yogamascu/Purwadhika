{
 "cells": [
  {
   "cell_type": "code",
   "execution_count": 70,
   "metadata": {},
   "outputs": [
    {
     "name": "stdout",
     "output_type": "stream",
     "text": [
      "Kesukaan Film kalian yang sama sebesar 60.0%\n"
     ]
    }
   ],
   "source": [
    "# Power point 02\n",
    "\n",
    "movie1 = {'avengers', 'hulk', 'iron man 3', 'wonder woman', 'batman'}\n",
    "movie2 = {'avengers', 'hulk', 'iron man 2', 'superman', 'wonder woman'}\n",
    "\n",
    "movieIntersection = movie1.intersection(movie2)\n",
    "print(\"Kesukaan Film kalian yang sama sebesar {}%\".format((len(movieIntersection)/len(movie1)) * 100))"
   ]
  },
  {
   "cell_type": "code",
   "execution_count": 69,
   "metadata": {},
   "outputs": [
    {
     "name": "stdout",
     "output_type": "stream",
     "text": [
      "Inventory:\n",
      "45 gold coin\n",
      "1 rope\n",
      "1 ruby\n",
      "1 dagger\n",
      "Total number of Items: 48\n"
     ]
    }
   ],
   "source": [
    "# Q1\n",
    "\n",
    "inventory= {'gold coin':42, 'rope':1}\n",
    "dragonloot = ['gold coin','ruby', 'gold coin', 'gold coin', 'dagger']\n",
    "\n",
    "def displayInventory(inventory):\n",
    "    print('Inventory:')\n",
    "    item_total = 0\n",
    "    for i,j in inventory.items():\n",
    "        print(str(j)+' '+str(i))\n",
    "        item_total += j\n",
    "    print(\"Total number of Items: \"+str(item_total))\n",
    "\n",
    "def addToInventory(inventory, addedItems):\n",
    "    for i in addedItems:\n",
    "        inventory.setdefault(i,0)\n",
    "        inventory[i] +=1\n",
    "    return inventory\n",
    "\n",
    "inv= addToInventory(inventory,dragonloot)\n",
    "displayInventory(inv)\n",
    "\n",
    "\n",
    "\n",
    "# def addToInventory (inventory, addedItems):\n",
    "#     for item in (addedItems):\n",
    "#         if item in inventory.keys():\n",
    "#             inventory[item] += 1\n",
    "#         else:\n",
    "#             inventory[item] = 1\n",
    "#     print ('iventory:')\n",
    "\n",
    "#     for key, value in inventory.items():\n",
    "#         printf'{value}{key}'\n",
    "\n"
   ]
  },
  {
   "cell_type": "code",
   "execution_count": 46,
   "metadata": {},
   "outputs": [
    {
     "ename": "SyntaxError",
     "evalue": "invalid syntax (3530731040.py, line 14)",
     "output_type": "error",
     "traceback": [
      "\u001b[0;36m  Cell \u001b[0;32mIn[46], line 14\u001b[0;36m\u001b[0m\n\u001b[0;31m    (s.find(i, (s.find(i-1)))) == +1:\u001b[0m\n\u001b[0m                                    ^\u001b[0m\n\u001b[0;31mSyntaxError\u001b[0m\u001b[0;31m:\u001b[0m invalid syntax\n"
     ]
    }
   ],
   "source": [
    "# Q2\n",
    "\n",
    "text = \"123PurwadhikaHeroesHeroes\"\n",
    "# repeatingCount(text)\n",
    " \n",
    "# Non-repeating character: 1\n",
    "# Repeating character: r\n",
    "\n",
    "def repeatingCount(test):\n",
    "    d = {}\n",
    "    for char in text:\n",
    "        if char in d.keys():\n",
    "            d[char] += 1\n",
    "        else:\n",
    "            d[char] = 1\n",
    "    return d\n",
    "\n",
    "    repeating = None\n",
    "\n",
    "    for key in d:\n",
    "        if d[key] > 1:\n",
    "            repeating = key\n",
    "            print (f'Non-repating char: '{repeating})\n",
    "    \n",
    "    nonRepeating = None\n",
    "    for char\n",
    "\n",
    "\n",
    "\n",
    "\n",
    "# def nonRepeat(s):\n",
    "#     for i in s:\n",
    "#         if (s.find(i, (s.find(i)+1))) == -1:\n",
    "#             print(\"First non-repeating character is\", i)\n",
    "#             break\n",
    "#     return\n",
    "# def re\n",
    " \n",
    " \n",
    " \n",
    "s = '123PurwadhikaHeroesHeroes'\n",
    " \n",
    "nonRepeat(s)"
   ]
  },
  {
   "cell_type": "code",
   "execution_count": 47,
   "metadata": {},
   "outputs": [],
   "source": [
    "# Q3\n",
    "\n",
    "# def check(string):\n",
    "#     string = string.replace(' ', '')\n",
    "#     string = string.lower()\n",
    "#     vowel = [string.count('a'), string.count('e'), string.count(\n",
    "#         'i'), string.count('o'), string.count('u')]\n",
    "#     if vowel.count(0) > 0:\n",
    "#         return('False')\n",
    "#     else:\n",
    "#         return('True')\n",
    " \n",
    "\n",
    "# string = ' '\n",
    "# print(check(string))\n",
    "\n",
    "def check(text):\n",
    "    d = {'A':0, 'I':0, 'U':0, 'E':0, 'O':0}\n",
    "    for char in text:\n",
    "        char = char.upper()\n",
    "        if char in d:\n",
    "            d[char] += 1\n",
    "    if 0 in d.values():\n",
    "        return False\n",
    "    else:\n",
    "        return True\n",
    "\n",
    "\n",
    "assert check('sEEquOiaL') == True\n",
    "assert check('Squ0iaL') == False\n",
    "assert check('') == False"
   ]
  },
  {
   "cell_type": "code",
   "execution_count": 48,
   "metadata": {},
   "outputs": [
    {
     "ename": "AssertionError",
     "evalue": "",
     "output_type": "error",
     "traceback": [
      "\u001b[0;31m---------------------------------------------------------------------------\u001b[0m",
      "\u001b[0;31mAssertionError\u001b[0m                            Traceback (most recent call last)",
      "Cell \u001b[0;32mIn[48], line 25\u001b[0m\n\u001b[1;32m     22\u001b[0m     \u001b[38;5;28;01melse\u001b[39;00m:\n\u001b[1;32m     23\u001b[0m         \u001b[38;5;28;01mreturn\u001b[39;00m \u001b[38;5;28;01mFalse\u001b[39;00m\n\u001b[0;32m---> 25\u001b[0m \u001b[38;5;28;01massert\u001b[39;00m cekHeterogram(\u001b[38;5;124m'\u001b[39m\u001b[38;5;124mpurwadhika jogja\u001b[39m\u001b[38;5;124m'\u001b[39m) \u001b[38;5;241m==\u001b[39m \u001b[38;5;28;01mFalse\u001b[39;00m\n\u001b[1;32m     26\u001b[0m \u001b[38;5;28;01massert\u001b[39;00m cekHeterogram(\u001b[38;5;124m'\u001b[39m\u001b[38;5;124mjcds 0210\u001b[39m\u001b[38;5;124m'\u001b[39m) \u001b[38;5;241m==\u001b[39m \u001b[38;5;28;01mTrue\u001b[39;00m\n\u001b[1;32m     27\u001b[0m \u001b[38;5;28;01massert\u001b[39;00m cekHeterogram(\u001b[38;5;124m'\u001b[39m\u001b[38;5;124m  \u001b[39m\u001b[38;5;124m'\u001b[39m) \u001b[38;5;241m==\u001b[39m \u001b[38;5;28;01mTrue\u001b[39;00m\n",
      "\u001b[0;31mAssertionError\u001b[0m: "
     ]
    }
   ],
   "source": [
    "# Q4\n",
    "# string='purwadhika jogja'\n",
    "# #string='jcds 0210'\n",
    "# def checkHeterogram(string):\n",
    "#     sorted_string = sorted(string.lower())\n",
    "#     for i in range(1, len(sorted_string)):\n",
    "#         if sorted_string[i] == sorted_string[i-1] and sorted_string[i].isalpha():\n",
    "#             return False\n",
    "#     return True\n",
    "# print(checkHeterogram(string))\n",
    "\n",
    "def cekHeterogram(text):\n",
    "    d = {}\n",
    "    for char in text:\n",
    "        if char.isalpha() != True:\n",
    "            continue\n",
    "        if char in d.keys():\n",
    "            d[char] += 1\n",
    "        else:\n",
    "            d[char] = 1\n",
    "\n",
    "    flag = None\n",
    "    for val in d.values():\n",
    "        if val > 1:\n",
    "            flag = False\n",
    "\n",
    "   \n",
    "\n",
    "\n",
    "assert cekHeterogram('purwadhika jogja') == False\n",
    "assert cekHeterogram('jcds 0210') == True\n",
    "assert cekHeterogram('  ') == True"
   ]
  },
  {
   "cell_type": "code",
   "execution_count": null,
   "metadata": {},
   "outputs": [],
   "source": [
    "# Q5\n",
    "\n",
    "def covertInterger(nums):\n",
    "    d ={0:'0', 1:'1', 2:'2', 3:'3', 4:'4', 5:'5', 6:'6', 7:'7', 8:'8', 9:'9'}\n",
    "\n",
    "    if nums == 0:\n",
    "        return '0'\n",
    "    \n",
    "    isNegative = None\n",
    "    if nums > 0:\n",
    "        isNegative = False\n",
    "    else:\n",
    "        nums  =-\n",
    "        isNegative = True\n",
    "\n",
    "    StrNum = ''\n",
    "    while nums > 0:\n",
    "        digit = nums % 10\n",
    "        strNum = d [digit] + strNum\n",
    "        nums //= 10\n",
    "\n",
    "    if isNegative:\n",
    "        return '-' + strNum\n",
    "    else:\n",
    "        return strNum\n",
    "\n",
    "\n",
    "\n",
    "\n",
    "assert convertInteger(0) == '0'\n",
    "assert convertInteger(150) == '150'\n",
    "assert convertInteger(1935) == '1935'\n",
    "assert convertInteger(-1234) == '-1234'"
   ]
  },
  {
   "cell_type": "code",
   "execution_count": 71,
   "metadata": {},
   "outputs": [],
   "source": [
    "# Q6\n",
    "\n",
    "def mode(numbers):\n",
    "    # Special case: If the numbers list is empty, return None:\n",
    "    if len(numbers) == 0:\n",
    "        return None\n",
    "    numberCount = {}\n",
    "    mostFreqNumber = None\n",
    "    mostFreqNumberCount = 0\n",
    "    for number in numbers:\n",
    "        if number not in numberCount:\n",
    "            numberCount[number] = 0\n",
    "        numberCount[number] += 1\n",
    "        if numberCount[number] > mostFreqNumberCount:\n",
    "            mostFreqNumber = number\n",
    "            mostFreqNumberCount = numberCount[number]\n",
    "    return mostFreqNumber\n",
    "\n",
    "assert mode([]) == None\n",
    "assert mode([1, 2, 3, 4, 4]) == 4\n",
    "assert mode([1, 1, 2, 3, 4]) == 1\n"
   ]
  },
  {
   "cell_type": "code",
   "execution_count": 62,
   "metadata": {},
   "outputs": [
    {
     "data": {
      "text/plain": [
       "'No'"
      ]
     },
     "execution_count": 62,
     "metadata": {},
     "output_type": "execute_result"
    }
   ],
   "source": [
    "# Q7\n",
    "\n",
    "from collections import Counter \n",
    "  \n",
    "def checkBalance(input): \n",
    "      \n",
    "    dict=Counter(input) \n",
    "    alike = list(set(dict.values())) \n",
    "  \n",
    "    if len(alike)>2: \n",
    "        return 'No' \n",
    "    elif len (alike)==2 and alike[1]-alike[0]>1: \n",
    "        return 'Yes' \n",
    "    else: \n",
    "        return 'No' \n",
    "  \n",
    "\n",
    "input = 'aa'\n",
    "checkBalance(input)\n",
    "\n",
    "\n",
    "# assert checkBalance('aa') == 'Yes'\n",
    "# assert checkBalance('aabbb') == 'Yes'\n",
    "# assert checkBalance('aabbbccc') == 'No'\n",
    "# assert checkBalance('aabbbcccc') == 'No'"
   ]
  }
 ],
 "metadata": {
  "kernelspec": {
   "display_name": "Python 3",
   "language": "python",
   "name": "python3"
  },
  "language_info": {
   "codemirror_mode": {
    "name": "ipython",
    "version": 3
   },
   "file_extension": ".py",
   "mimetype": "text/x-python",
   "name": "python",
   "nbconvert_exporter": "python",
   "pygments_lexer": "ipython3",
   "version": "3.1.0"
  }
 },
 "nbformat": 4,
 "nbformat_minor": 2
}
