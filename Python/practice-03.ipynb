{
 "cells": [
  {
   "cell_type": "code",
   "execution_count": 71,
   "metadata": {},
   "outputs": [
    {
     "name": "stdout",
     "output_type": "stream",
     "text": [
      "Assert factorial -10 == None\n"
     ]
    }
   ],
   "source": [
    "# Q1\n",
    "\n",
    "# Write a factorial() function for calculating the factorial of the input number, and please use the recursion schema. Your solution is correct if the following assert statements’ conditions are all True:\n",
    "\n",
    "def factorial(n):\n",
    "    if n <0:\n",
    "        return None\n",
    "    elif n == 0:\n",
    "        return 1\n",
    "    else:\n",
    "        return n * factorial(n - 1)\n",
    "\n",
    "n = int(input(\"Input a number to compute the factorial: \"))\n",
    "print(f'Assert factorial', (n), '==', factorial(n))"
   ]
  },
  {
   "cell_type": "code",
   "execution_count": 76,
   "metadata": {},
   "outputs": [
    {
     "data": {
      "text/plain": [
       "'1h*1s'"
      ]
     },
     "execution_count": 76,
     "metadata": {},
     "output_type": "execute_result"
    }
   ],
   "source": [
    "# Q2\n",
    "\n",
    "# Write a timeConvert() function that has a totalSeconds parameter. The argument for this parameter will be the number of seconds to be translated into the number of hours, minutes, and seconds. If the amount for the hours, minutes, or seconds is zero, don’t show it: the function should return `10m` rather than '0h 10m 0s'.\n",
    "\n",
    "def timeConvert(totalsecond):\n",
    "    if totalsecond == 0:\n",
    "        return '0s'\n",
    "    hour = 0\n",
    "    while totalsecond >=3600:\n",
    "        hour += 1\n",
    "        totalsecond -= 3600\n",
    "    minute = 0\n",
    "    while totalsecond >=60:\n",
    "        minute += 1\n",
    "        totalsecond -= 60\n",
    "\n",
    "    sec = totalsecond\n",
    "    out = []\n",
    "    if hour > 0:\n",
    "        out.append(f'{hour}h')\n",
    "    if minute > 0:\n",
    "        out.append(f'{minute}m')\n",
    "    if sec > 0:\n",
    "        out.append(f'{sec}s')\n",
    "    return '*'.join(out)\n",
    "\n",
    "timeConvert(3601)\n",
    "\n",
    "        "
   ]
  },
  {
   "cell_type": "code",
   "execution_count": 77,
   "metadata": {},
   "outputs": [],
   "source": [
    "# Q3\n",
    "\n",
    "# Area and volume are straightforward calculations. You will write two functions, `area()` and `volume()`for this exercise. Each function is a simple calculation and return statement. However, area and volume are slightly more complicated because they involve multiple parameters. This exercise continues to challenge you to translate mathematical formulas into Python code.\n",
    "\n",
    "# The formulas for calculating area and volume area are based on the length (L), width (W), and height (H) of the shape:\n",
    "\n",
    "#- area = L × W\n",
    "#- volume = L × W × H\n",
    "#Your solution is correct if the following assert statements conditions are all True:\n",
    "\n",
    "\n",
    "\n",
    "def area (l, w):\n",
    "\t\treturn l * w\n",
    "\t\n",
    "def volume(l, w, h):\n",
    "\t    return l * w * h\n",
    "\n",
    "assert area(10, 10) == 100\n",
    "assert area(0, 9999) == 0\n",
    "assert volume(10, 10, 10) == 1000\n",
    "assert volume(5, 8, 10) == 400\n",
    "\t\t\n"
   ]
  },
  {
   "cell_type": "code",
   "execution_count": 85,
   "metadata": {},
   "outputs": [],
   "source": [
    "# Q4\n",
    "def getColor(row, col):\n",
    "    if  row < 0 or row > 7 or col < 0 or col > 7:\n",
    "        return ''\n",
    "        \n",
    "    elif row%2 == col%2:\n",
    "        return 'white'\n",
    "    else:\n",
    "        return 'black'\n",
    "\n",
    "assert getColor(1, 1) == 'white'\n",
    "assert getColor(2, 1) == 'black'\n",
    "assert getColor(1, 2) == 'black'\n",
    "assert getColor(7, 7) == 'white'\n",
    "assert getColor(0, 8) == ''\n",
    "assert getColor(2, 9) == ''"
   ]
  },
  {
   "cell_type": "code",
   "execution_count": 89,
   "metadata": {},
   "outputs": [],
   "source": [
    "# Q5\n",
    "\n",
    "def encrypthor(text):\n",
    "    SYMBOL ='ABCDEFGHIJKLMNOPQRSTUVWXYZ'\n",
    "    out = ''\n",
    "    for word in text.upper():\n",
    "        if word in SYMBOL:\n",
    "            index = SYMBOL.find(word)\n",
    "            index += 4\n",
    "\n",
    "            if index > len(SYMBOL):\n",
    "                index -= len(SYMBOL)\n",
    "            \n",
    "            out += SYMBOL[index]\n",
    "        else:\n",
    "            out += word\n",
    "    return out\n",
    "\n",
    "\n",
    "\n",
    "\n"
   ]
  },
  {
   "cell_type": "code",
   "execution_count": 90,
   "metadata": {},
   "outputs": [],
   "source": [
    "# Q6\n",
    "\n",
    "def isLeapYear (year):\n",
    "    if year % 400 == 0:\n",
    "        return True\n",
    "    elif year % 100 == 0:\n",
    "        return False\n",
    "    elif year % 4 == 0:\n",
    "        return True\n",
    "    else:\n",
    "        return False\n",
    "\n",
    "assert isLeapYear(1999) == False\n",
    "assert isLeapYear(2000) == True\n",
    "assert isLeapYear(2001) == False\n",
    "assert isLeapYear(2004) == True\n",
    "assert isLeapYear(2100) == False\n",
    "assert isLeapYear(2400) == True\n"
   ]
  },
  {
   "cell_type": "code",
   "execution_count": null,
   "metadata": {},
   "outputs": [],
   "source": [
    "# Q7\n",
    "\n"
   ]
  },
  {
   "cell_type": "code",
   "execution_count": null,
   "metadata": {},
   "outputs": [],
   "source": [
    "# Q8\n"
   ]
  }
 ],
 "metadata": {
  "kernelspec": {
   "display_name": "base",
   "language": "python",
   "name": "python3"
  },
  "language_info": {
   "codemirror_mode": {
    "name": "ipython",
    "version": 3
   },
   "file_extension": ".py",
   "mimetype": "text/x-python",
   "name": "python",
   "nbconvert_exporter": "python",
   "pygments_lexer": "ipython3",
   "version": "3.11.5"
  }
 },
 "nbformat": 4,
 "nbformat_minor": 2
}
