{
 "cells": [
  {
   "cell_type": "code",
   "execution_count": 2,
   "metadata": {},
   "outputs": [
    {
     "name": "stdout",
     "output_type": "stream",
     "text": [
      "Maksimum 89 dan minimum 1\n"
     ]
    }
   ],
   "source": [
    "# Exercise Powerpoint 01\n",
    "\n",
    "nums = [41, 5, 1, 3, 89, 32]\n",
    "\n",
    "minIdx = 0\n",
    "maxIdx = 0\n",
    "for idx, num in enumerate(nums):\n",
    "    if num >= nums[maxIdx]:\n",
    "        maxIdx = idx\n",
    "    elif num <= nums[minIdx]:\n",
    "        minIdx = idx\n",
    "minIdx\n",
    "\n",
    "print (f'Maksimum {nums [maxIdx]} dan minimum {nums[minIdx]}')\n"
   ]
  },
  {
   "cell_type": "code",
   "execution_count": 22,
   "metadata": {},
   "outputs": [
    {
     "data": {
      "text/plain": [
       "[89, 41, 32, 5, 3, 1]"
      ]
     },
     "execution_count": 22,
     "metadata": {},
     "output_type": "execute_result"
    }
   ],
   "source": [
    "# Exercise Powerpoint 02\n",
    "\n",
    "nums=[41, 5, 1, 3, 89, 32]\n",
    "for i in range (len(nums)):\n",
    "    for j in range(len(nums)-1):\n",
    "        if nums[i] > nums[j]:\n",
    "            nums[i], nums[j] = nums [j], nums [i]\n",
    "\n",
    "\n",
    "nums"
   ]
  },
  {
   "cell_type": "code",
   "execution_count": 23,
   "metadata": {},
   "outputs": [],
   "source": [
    "# Q1\n",
    "\n",
    "def getSmallest(numbers):\n",
    "    if len(numbers) == 0:\n",
    "        return None\n",
    "    smallest = numbers[0]\n",
    "    for number in numbers:\n",
    "        if number < smallest:\n",
    "            smallest = number\n",
    "    return smallest\n",
    "\n",
    "assert getSmallest([1, 2, 3]) == 1\n",
    "assert getSmallest([3, 2, 1]) == 1\n",
    "assert getSmallest([28, 25, 42, 2, 28]) == 2\n",
    "assert getSmallest([1]) == 1\n",
    "assert getSmallest([]) == None\n",
    "    \n"
   ]
  },
  {
   "cell_type": "code",
   "execution_count": 27,
   "metadata": {},
   "outputs": [],
   "source": [
    "# Q2\n",
    "\n",
    "nums = [2, 7, 11, 15] \n",
    "target = 9\n",
    "\n",
    "def findIndex (nums, target):\n",
    "    output = []\n",
    "    for i, num in enumerate(nums):\n",
    "        if target - num in nums:\n",
    "            output.append(i)\n",
    "    return tuple(output)\n",
    "\n",
    "assert findIndex ([2, 7, 11, 15], 9) == (0, 1)\n",
    "\n",
    "\n"
   ]
  },
  {
   "cell_type": "code",
   "execution_count": 49,
   "metadata": {},
   "outputs": [],
   "source": [
    "# Q3\n",
    "\n",
    "# def Sort_Tuple(tup): \n",
    "\n",
    "#     nums.sort(key = lambda x: x[1]) \n",
    "#     return tup \n",
    " \n",
    "\n",
    "# nums = [('a', 1), ('b', 3), ('c', 5), ('d', 2)]\n",
    " \n",
    "# Sort_Tuple (nums)\n",
    "# input\n",
    "\n",
    "def sortTuple(nums):\n",
    "    nums = list(nums)\n",
    "    for i in range(len(nums)):\n",
    "        for j in range (len(nums)-1):\n",
    "            if nums [i][-1] < nums [j][-1]:\n",
    "                nums[i], nums[j] = nums [j], nums [i]\n",
    "    return tuple(nums)\n",
    "assert sortTuple ((('a', 1), ('b', 3), ('c', 5), ('d', 2))) == ((('a', 1), ('d', 2), ('b', 3), ('c', 5)))\n"
   ]
  },
  {
   "cell_type": "code",
   "execution_count": 51,
   "metadata": {},
   "outputs": [],
   "source": [
    "# Q4\n",
    "\n",
    "def addList (l1, l2):\n",
    "    out1 = ''\n",
    "    for i in l1[::-1]:\n",
    "        out1 += str(i)\n",
    "    out2 = ''\n",
    "    for j in l2[::-1]:\n",
    "        out2 += str(j)\n",
    "    SUM = str(int(out1)+int(out2))\n",
    "    OUT = [int (i) for i in SUM]\n",
    "    return tuple (OUT[::-1])\n",
    "\n",
    "assert addList([2, 4, 3], [5, 6, 4]) == (7, 0, 8)\n"
   ]
  },
  {
   "cell_type": "code",
   "execution_count": 38,
   "metadata": {},
   "outputs": [],
   "source": [
    "# Q5\n",
    "\n",
    "def mergeTwoLists(list1, list2):\n",
    "    result = []\n",
    "    i1 = 0\n",
    "    i2 = 0\n",
    "    while i1 < len(list1) and i2 < len(list2):\n",
    "        if list1[i1] < list2[i2]:\n",
    "            result.append(list1[i1])\n",
    "            i1 += 1\n",
    "        else:\n",
    "            result.append(list2[i2])\n",
    "            i2 += 1\n",
    " \n",
    "    if i1 < len(list1):\n",
    "        for j in range(i1, len(list1)):\n",
    "            result.append(list1[j])\n",
    "   \n",
    "    if i2 < len(list2):\n",
    "        for j in range(i2, len(list2)):\n",
    "            result.append(list2[j])\n",
    "    return result\n",
    "\n",
    "\n",
    "assert mergeTwoLists([1, 3, 6], [5, 7, 8, 9]) == [1, 3, 5, 6, 7, 8, 9]\n",
    "assert mergeTwoLists([1, 2, 3], [4, 5]) == [1, 2, 3, 4, 5]\n",
    "assert mergeTwoLists([4, 5], [1, 2, 3]) == [1, 2, 3, 4, 5]\n",
    "assert mergeTwoLists([2, 2, 2], [2, 2, 2]) == [2, 2, 2, 2, 2, 2]\n",
    "assert mergeTwoLists([1, 2, 3], []) == [1, 2, 3]\n",
    "assert mergeTwoLists([], [1, 2, 3]) == [1, 2, 3]"
   ]
  },
  {
   "cell_type": "code",
   "execution_count": null,
   "metadata": {},
   "outputs": [],
   "source": [
    "# Q6"
   ]
  },
  {
   "cell_type": "code",
   "execution_count": null,
   "metadata": {},
   "outputs": [],
   "source": [
    "# Q7\n",
    "\n",
    "import random\n",
    "\n",
    "LOWER_LETTERS = 'abcdefghijklmnopqrstuvwxyz'\n",
    "UPPER_LETTERS = 'ABCDEFGHIJKLMNOPQRSTUVWXYZ'\n",
    "NUMBERS = '1234567890'\n",
    "SPECIAL = '~!@#$%^&*()_+'\n",
    "\n",
    "ALL_CHARS = LOWER_LETTERS + UPPER_LETTERS + NUMBERS + SPECIAL\n",
    "\n",
    "def generatePassword(length):\n",
    "    if length < 12:\n",
    "        length = 12\n",
    "\n",
    "    password = []\n",
    "\n",
    "    password.append(LOWER_LETTERS[random.randint(0, 25)])\n",
    "    password.append(UPPER_LETTERS[random.randint(0, 25)])\n",
    "    password.append(NUMBERS[random.randint(0, 9)])\n",
    "    password.append(SPECIAL[random.randint(0, 12)])\n",
    "\n",
    "    while len(password) < length:\n",
    "        password.append(ALL_CHARS[random.randint(0, 74)])\n",
    "    random.shuffle(password)\n",
    "\n",
    "    return ''.join(password)\n",
    "\n",
    "assert len(generatePassword(8)) == 12\n",
    "\n",
    "pw = generatePassword(14)\n",
    "assert len(pw) == 14\n",
    "hasLowercase = False\n",
    "hasUppercase = False\n",
    "hasNumber = False\n",
    "hasSpecial = False\n",
    "for character in pw:\n",
    "    if character in LOWER_LETTERS:\n",
    "        hasLowercase = True\n",
    "    if character in UPPER_LETTERS:\n",
    "        hasUppercase = True\n",
    "    if character in NUMBERS:\n",
    "        hasNumber = True\n",
    "    if character in SPECIAL:\n",
    "        hasSpecial = True\n",
    "assert hasLowercase and hasUppercase and hasNumber and hasSpecial"
   ]
  },
  {
   "cell_type": "code",
   "execution_count": 47,
   "metadata": {},
   "outputs": [
    {
     "data": {
      "text/plain": [
       "[(-6, 2, 4), (-2, 0, 2), (-1, 0, 1)]"
      ]
     },
     "execution_count": 47,
     "metadata": {},
     "output_type": "execute_result"
    }
   ],
   "source": [
    "# Q8\n",
    "def three_sum(nums):\n",
    "    result = []\n",
    "    nums.sort()\n",
    "    \n",
    "    for i in range(len(nums) - 2):\n",
    "        # Skip duplicate values at the current position.\n",
    "        if i > 0 and nums[i] == nums[i - 1]:\n",
    "            continue\n",
    "        \n",
    "        # Set two pointers, 'l' and 'r', to find the other two elements in the triplet.\n",
    "        l, r = i + 1, len(nums) - 1\n",
    "        \n",
    "        # Perform a two-pointer search to find triplets with the sum equal to zero.\n",
    "        while l < r:\n",
    "            s = nums[i] + nums[l] + nums[r]\n",
    "            \n",
    "            if s > 0:\n",
    "                r -= 1\n",
    "            elif s < 0:\n",
    "                l += 1\n",
    "            else:\n",
    "                # Found a triplet with the sum equal to zero, add it to the result.\n",
    "                result.append((nums[i], nums[l], nums[r]))\n",
    "                \n",
    "                # Remove duplicates in the left and right pointers.\n",
    "                while l < r and nums[l] == nums[l + 1]:\n",
    "                    l += 1\n",
    "                while l < r and nums[r] == nums[r - 1]:\n",
    "                    r -= 1\n",
    "                \n",
    "                # Move the pointers towards the center.\n",
    "                l += 1\n",
    "                r -= 1\n",
    "    \n",
    "    return result\n",
    "\n",
    "x = [1, -6, 4, 2, -1, 2, 0, -2, 0]\n",
    "\n",
    "three_sum(x)"
   ]
  }
 ],
 "metadata": {
  "kernelspec": {
   "display_name": "base",
   "language": "python",
   "name": "python3"
  },
  "language_info": {
   "codemirror_mode": {
    "name": "ipython",
    "version": 3
   },
   "file_extension": ".py",
   "mimetype": "text/x-python",
   "name": "python",
   "nbconvert_exporter": "python",
   "pygments_lexer": "ipython3",
   "version": "3.11.5"
  }
 },
 "nbformat": 4,
 "nbformat_minor": 2
}
